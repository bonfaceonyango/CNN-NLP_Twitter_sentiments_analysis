{
 "cells": [
  {
   "cell_type": "markdown",
   "id": "82c5f2de-4f52-4e0c-8f0a-d9b19f0889df",
   "metadata": {},
   "source": [
    "# Dataset description\n",
    "Data for this project is obtained from kaggle. The link to the data is https://www.kaggle.com/code/youben/twitter-sentiment-analysis/data"
   ]
  },
  {
   "cell_type": "code",
   "execution_count": 16,
   "id": "57fd567d-5d5c-4972-814e-d1173f058ee9",
   "metadata": {},
   "outputs": [],
   "source": [
    "#Import required library\n",
    "import pandas as pd\n",
    "import numpy as np\n",
    "\n",
    "import tensorflow as tf\n",
    "import tensorflow_hub as hub\n",
    "import re\n",
    "import os\n",
    "import shutil\n",
    "import string\n",
    "import matplotlib as plt\n",
    "import pydot \n",
    "from tensorflow.keras import layers\n",
    "from tensorflow.keras import regularizers\n",
    "from collections import Counter\n",
    "from tensorflow.keras import losses\n",
    "\n",
    "from sklearn.preprocessing import LabelEncoder\n",
    "\n",
    "from sklearn.metrics import classification_report\n",
    "from sklearn.model_selection import train_test_split\n",
    "from tensorflow.keras import preprocessing\n",
    "from tensorflow.keras.preprocessing.text import Tokenizer\n",
    "\n",
    "from tensorflow.keras.preprocessing.sequence import  pad_sequences\n",
    "import emoji"
   ]
  },
  {
   "cell_type": "markdown",
   "id": "f02a7669-fa33-47e8-bbb7-bfb26b356cf8",
   "metadata": {},
   "source": [
    "# Library description\n",
    "## Shutil\n",
    "The shutil in Python is a module used for  several functions mostly to to deal with  file operations  and their collections.It used to copy or  removal files.It resembkes OS module but the only difference is that the OS module lacks functions dealing with file collections\n",
    "<b>\n",
    "## Tensorflow library\n",
    " It is a library used for machine learnng and deep learning\n",
    "## String module\n",
    " It contains string functions for processing python string\n",
    "## Pydot\n",
    "This is an open source graph visualization software"
   ]
  },
  {
   "cell_type": "code",
   "execution_count": 10,
   "id": "b08ab23a-f93f-4416-b84c-b9f76bc275db",
   "metadata": {},
   "outputs": [
    {
     "name": "stdout",
     "output_type": "stream",
     "text": [
      "2.8.0\n"
     ]
    }
   ],
   "source": [
    "print(tf.__version__)"
   ]
  },
  {
   "cell_type": "code",
   "execution_count": 12,
   "id": "5701ab59-a795-4aa4-b113-ed359b80c599",
   "metadata": {},
   "outputs": [
    {
     "data": {
      "text/plain": [
       "False"
      ]
     },
     "execution_count": 12,
     "metadata": {},
     "output_type": "execute_result"
    }
   ],
   "source": [
    "tf.test.is_gpu_available(\n",
    "    cuda_only=False, min_cuda_compute_capability=None\n",
    ")\n"
   ]
  },
  {
   "cell_type": "code",
   "execution_count": 18,
   "id": "d765628a-af1d-44d6-bd26-a2213511ebf0",
   "metadata": {},
   "outputs": [],
   "source": [
    "# Remove emoji preprocessing code\n",
    "import emoji\n",
    "\n",
    "def give_emoji_free_text(self, text):\n",
    "    allchars = [str for str in text]\n",
    "    emoji_list = [c for c in allchars if c in emoji.UNICODE_EMOJI]\n",
    "    clean_text = ' '.join([str for str in text.split() if not any(i in str for i in emoji_list)])\n",
    "\n",
    "    return clean_text\n",
    "\n",
    "#text = give_emoji_free_text(text)"
   ]
  },
  {
   "cell_type": "code",
   "execution_count": 19,
   "id": "b59e8c56-999d-49ed-9b08-6c9e414f8596",
   "metadata": {},
   "outputs": [],
   "source": [
    "# Remove url\n",
    "def rem_url(text):\n",
    "    p=re.compile(r'\\<http.+?\\>', re.DOTALL)\n",
    "    return re.sub(p, '', plain)"
   ]
  },
  {
   "cell_type": "code",
   "execution_count": 39,
   "id": "9ba086e1-d6ec-48c8-9491-3be4ecda3c28",
   "metadata": {},
   "outputs": [],
   "source": [
    "# Remove punctuations\n",
    "from string import punctuation\n",
    "type(punctuation)\n",
    "my_punctuation = punctuation.replace(\"'\", \"\")\n",
    "my_punctuation\n",
    "def rem_punct(text):\n",
    "    return text.translate(str.maketrans(\"\", \"\", my_punctuation))"
   ]
  },
  {
   "cell_type": "code",
   "execution_count": 40,
   "id": "fe083990-dcc6-4858-bdd5-05d0f32ed32d",
   "metadata": {},
   "outputs": [
    {
     "data": {
      "text/plain": [
       "{'encoding': 'utf-8', 'confidence': 0.99, 'language': ''}"
      ]
     },
     "execution_count": 40,
     "metadata": {},
     "output_type": "execute_result"
    }
   ],
   "source": [
    "# Load non_UTF8 data file\n",
    "#Check the character encoding type\n",
    "data_path=\"train.csv\"\n",
    "import chardet\n",
    "with open(data_path, 'rb') as rawdata:\n",
    "    result = chardet.detect(rawdata.read(100000))\n",
    "result\n",
    "#From output below, encoding is windows-1252"
   ]
  },
  {
   "cell_type": "code",
   "execution_count": 52,
   "id": "7493f373-3ef2-4cce-b2d0-f96fe56ccb4a",
   "metadata": {},
   "outputs": [],
   "source": [
    "# Load dataset\n",
    "# data=pd.read_csv(\"train.csv\")\n",
    "data = pd.read_csv(\"train.csv\",encoding=\"utf-8\")\n"
   ]
  },
  {
   "cell_type": "code",
   "execution_count": 59,
   "id": "3be19893-9ab6-46e2-a76c-69053b5f6634",
   "metadata": {},
   "outputs": [
    {
     "data": {
      "text/html": [
       "<div>\n",
       "<style scoped>\n",
       "    .dataframe tbody tr th:only-of-type {\n",
       "        vertical-align: middle;\n",
       "    }\n",
       "\n",
       "    .dataframe tbody tr th {\n",
       "        vertical-align: top;\n",
       "    }\n",
       "\n",
       "    .dataframe thead th {\n",
       "        text-align: right;\n",
       "    }\n",
       "</style>\n",
       "<table border=\"1\" class=\"dataframe\">\n",
       "  <thead>\n",
       "    <tr style=\"text-align: right;\">\n",
       "      <th></th>\n",
       "      <th>textID</th>\n",
       "      <th>text</th>\n",
       "      <th>selected_text</th>\n",
       "      <th>sentiment</th>\n",
       "    </tr>\n",
       "  </thead>\n",
       "  <tbody>\n",
       "    <tr>\n",
       "      <th>0</th>\n",
       "      <td>cb774db0d1</td>\n",
       "      <td>I`d have responded, if I were going</td>\n",
       "      <td>I`d have responded, if I were going</td>\n",
       "      <td>neutral</td>\n",
       "    </tr>\n",
       "    <tr>\n",
       "      <th>1</th>\n",
       "      <td>549e992a42</td>\n",
       "      <td>Sooo SAD I will miss you here in San Diego!!!</td>\n",
       "      <td>Sooo SAD</td>\n",
       "      <td>negative</td>\n",
       "    </tr>\n",
       "    <tr>\n",
       "      <th>2</th>\n",
       "      <td>088c60f138</td>\n",
       "      <td>my boss is bullying me...</td>\n",
       "      <td>bullying me</td>\n",
       "      <td>negative</td>\n",
       "    </tr>\n",
       "    <tr>\n",
       "      <th>3</th>\n",
       "      <td>9642c003ef</td>\n",
       "      <td>what interview! leave me alone</td>\n",
       "      <td>leave me alone</td>\n",
       "      <td>negative</td>\n",
       "    </tr>\n",
       "    <tr>\n",
       "      <th>4</th>\n",
       "      <td>358bd9e861</td>\n",
       "      <td>Sons of ****, why couldn`t they put them on t...</td>\n",
       "      <td>Sons of ****,</td>\n",
       "      <td>negative</td>\n",
       "    </tr>\n",
       "  </tbody>\n",
       "</table>\n",
       "</div>"
      ],
      "text/plain": [
       "       textID                                               text  \\\n",
       "0  cb774db0d1                I`d have responded, if I were going   \n",
       "1  549e992a42      Sooo SAD I will miss you here in San Diego!!!   \n",
       "2  088c60f138                          my boss is bullying me...   \n",
       "3  9642c003ef                     what interview! leave me alone   \n",
       "4  358bd9e861   Sons of ****, why couldn`t they put them on t...   \n",
       "\n",
       "                         selected_text sentiment  \n",
       "0  I`d have responded, if I were going   neutral  \n",
       "1                             Sooo SAD  negative  \n",
       "2                          bullying me  negative  \n",
       "3                       leave me alone  negative  \n",
       "4                        Sons of ****,  negative  "
      ]
     },
     "execution_count": 59,
     "metadata": {},
     "output_type": "execute_result"
    }
   ],
   "source": [
    "data.head()"
   ]
  },
  {
   "cell_type": "code",
   "execution_count": 61,
   "id": "305664d4-75ea-47ba-a16c-9ca0f1658907",
   "metadata": {},
   "outputs": [
    {
     "data": {
      "text/plain": [
       "textID           0\n",
       "text             0\n",
       "selected_text    0\n",
       "sentiment        0\n",
       "dtype: int64"
      ]
     },
     "execution_count": 61,
     "metadata": {},
     "output_type": "execute_result"
    }
   ],
   "source": [
    "# Check null values\n",
    "data.isnull().sum()\n",
    "#Drop nall\n",
    "data=data.dropna()\n",
    "# Check after dropping null\n",
    "data.isnull().sum()"
   ]
  },
  {
   "cell_type": "code",
   "execution_count": 57,
   "id": "de84cd53-9b61-45a7-9b49-5fb9ccfa5a1c",
   "metadata": {},
   "outputs": [
    {
     "data": {
      "text/plain": [
       "(27480, 4)"
      ]
     },
     "execution_count": 57,
     "metadata": {},
     "output_type": "execute_result"
    }
   ],
   "source": [
    "data.shape"
   ]
  },
  {
   "cell_type": "code",
   "execution_count": null,
   "id": "7a00bf74-4f8d-4705-866a-c7704cf342ea",
   "metadata": {},
   "outputs": [],
   "source": []
  }
 ],
 "metadata": {
  "kernelspec": {
   "display_name": "Python 3 (ipykernel)",
   "language": "python",
   "name": "python3"
  },
  "language_info": {
   "codemirror_mode": {
    "name": "ipython",
    "version": 3
   },
   "file_extension": ".py",
   "mimetype": "text/x-python",
   "name": "python",
   "nbconvert_exporter": "python",
   "pygments_lexer": "ipython3",
   "version": "3.10.2"
  }
 },
 "nbformat": 4,
 "nbformat_minor": 5
}
