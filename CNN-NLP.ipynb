{
 "cells": [
  {
   "cell_type": "markdown",
   "id": "82c5f2de-4f52-4e0c-8f0a-d9b19f0889df",
   "metadata": {},
   "source": [
    "# Dataset description\n",
    "Data for this project is obtained from kaggle. The link to the data is https://www.kaggle.com/code/youben/twitter-sentiment-analysis/data"
   ]
  },
  {
   "cell_type": "code",
   "execution_count": 48,
   "id": "57fd567d-5d5c-4972-814e-d1173f058ee9",
   "metadata": {},
   "outputs": [
    {
     "name": "stderr",
     "output_type": "stream",
     "text": [
      "Matplotlib is building the font cache; this may take a moment.\n"
     ]
    }
   ],
   "source": [
    "#Import required library\n",
    "import pandas as pd\n",
    "import numpy as np\n",
    "import tensorflow as tf\n",
    "import tensorflow_hub as hub\n",
    "import re\n",
    "import os\n",
    "import shutil\n",
    "import string\n",
    "from matplotlib import pyplot as plt\n",
    "import pydot \n",
    "from tensorflow.keras import layers\n",
    "from tensorflow.keras import regularizers\n",
    "from collections import Counter\n",
    "from tensorflow.keras import losses\n",
    "from keras import Sequential\n",
    "from tensorflow.keras.layers import Embedding\n",
    "from keras.layers import Dense, InputLayer, Dropout, Flatten, BatchNormalization, Conv1D\n",
    "from keras.layers import GlobalMaxPool1D\n",
    "from sklearn.preprocessing import LabelEncoder\n",
    "\n",
    "from sklearn.metrics import classification_report\n",
    "from sklearn.model_selection import train_test_split\n",
    "from tensorflow.keras.preprocessing.text import Tokenizer\n",
    "from tensorflow.keras.preprocessing.sequence import  pad_sequences\n",
    "import emoji"
   ]
  },
  {
   "cell_type": "markdown",
   "id": "f02a7669-fa33-47e8-bbb7-bfb26b356cf8",
   "metadata": {},
   "source": [
    "# Library description\n",
    "## Shutil\n",
    "The shutil in Python is a module used for  several functions mostly to to deal with  file operations  and their collections.It used to copy or  removal files.It resembkes OS module but the only difference is that the OS module lacks functions dealing with file collections\n",
    "<b>\n",
    "## Tensorflow library\n",
    " It is a library used for machine learnng and deep learning\n",
    "## String module\n",
    " It contains string functions for processing python string\n",
    "## Pydot\n",
    "This is an open source graph visualization software"
   ]
  },
  {
   "cell_type": "code",
   "execution_count": 2,
   "id": "b08ab23a-f93f-4416-b84c-b9f76bc275db",
   "metadata": {},
   "outputs": [
    {
     "name": "stdout",
     "output_type": "stream",
     "text": [
      "2.9.1\n"
     ]
    }
   ],
   "source": [
    "print(tf.__version__)"
   ]
  },
  {
   "cell_type": "code",
   "execution_count": 3,
   "id": "5701ab59-a795-4aa4-b113-ed359b80c599",
   "metadata": {},
   "outputs": [
    {
     "name": "stdout",
     "output_type": "stream",
     "text": [
      "WARNING:tensorflow:From /tmp/ipykernel_47377/91792818.py:1: is_gpu_available (from tensorflow.python.framework.test_util) is deprecated and will be removed in a future version.\n",
      "Instructions for updating:\n",
      "Use `tf.config.list_physical_devices('GPU')` instead.\n"
     ]
    },
    {
     "name": "stderr",
     "output_type": "stream",
     "text": [
      "2022-07-16 10:45:39.946064: W tensorflow/stream_executor/platform/default/dso_loader.cc:64] Could not load dynamic library 'libcuda.so.1'; dlerror: libcuda.so.1: cannot open shared object file: No such file or directory\n"
     ]
    },
    {
     "data": {
      "text/plain": [
       "False"
      ]
     },
     "execution_count": 3,
     "metadata": {},
     "output_type": "execute_result"
    },
    {
     "name": "stderr",
     "output_type": "stream",
     "text": [
      "2022-07-16 10:45:39.946097: W tensorflow/stream_executor/cuda/cuda_driver.cc:269] failed call to cuInit: UNKNOWN ERROR (303)\n",
      "2022-07-16 10:45:39.946125: I tensorflow/stream_executor/cuda/cuda_diagnostics.cc:156] kernel driver does not appear to be running on this host (ubuntu): /proc/driver/nvidia/version does not exist\n"
     ]
    }
   ],
   "source": [
    "tf.test.is_gpu_available(\n",
    "    cuda_only=False, min_cuda_compute_capability=None\n",
    ")\n"
   ]
  },
  {
   "cell_type": "code",
   "execution_count": 4,
   "id": "d765628a-af1d-44d6-bd26-a2213511ebf0",
   "metadata": {},
   "outputs": [],
   "source": [
    "# Remove emoji preprocessing code\n",
    "import emoji\n",
    "\n",
    "def give_emoji_free_text(text):\n",
    "    allchars = [str for str in text]\n",
    "    emoji_list = [c for c in allchars if c in emoji.UNICODE_EMOJI]\n",
    "    clean_text = ' '.join([str for str in text.split() if not any(i in str for i in emoji_list)])\n",
    "\n",
    "    return clean_text\n",
    "\n",
    "#text = give_emoji_free_text(text)"
   ]
  },
  {
   "cell_type": "code",
   "execution_count": 5,
   "id": "b59e8c56-999d-49ed-9b08-6c9e414f8596",
   "metadata": {},
   "outputs": [],
   "source": [
    "# Remove url\n",
    "def rem_url(data_clean):\n",
    "    p=re.compile(r'\\<http.+?\\>', re.DOTALL)\n",
    "    return re.sub(p, '',data_clean)"
   ]
  },
  {
   "cell_type": "code",
   "execution_count": 6,
   "id": "9ba086e1-d6ec-48c8-9491-3be4ecda3c28",
   "metadata": {},
   "outputs": [],
   "source": [
    "# Remove punctuations\n",
    "from string import punctuation\n",
    "type(punctuation)\n",
    "my_punctuation = punctuation.replace(\"'\", \"\")\n",
    "my_punctuation\n",
    "def rem_punct(text):\n",
    "    return text.translate(str.maketrans(\"\", \"\", my_punctuation))"
   ]
  },
  {
   "cell_type": "code",
   "execution_count": 7,
   "id": "fe083990-dcc6-4858-bdd5-05d0f32ed32d",
   "metadata": {},
   "outputs": [
    {
     "data": {
      "text/plain": [
       "{'encoding': 'utf-8', 'confidence': 0.99, 'language': ''}"
      ]
     },
     "execution_count": 7,
     "metadata": {},
     "output_type": "execute_result"
    }
   ],
   "source": [
    "# Load non_UTF8 data file\n",
    "#Check the character encoding type\n",
    "data_path=\"train.csv\"\n",
    "import chardet\n",
    "with open(data_path, 'rb') as rawdata:\n",
    "    result = chardet.detect(rawdata.read(100000))\n",
    "result\n",
    "#From output below, encoding is windows-1252"
   ]
  },
  {
   "cell_type": "code",
   "execution_count": 8,
   "id": "7493f373-3ef2-4cce-b2d0-f96fe56ccb4a",
   "metadata": {},
   "outputs": [
    {
     "name": "stderr",
     "output_type": "stream",
     "text": [
      "/tmp/ipykernel_47377/1431470844.py:6: FutureWarning: The default value of regex will change from True to False in a future version.\n",
      "  data['text'] = data['text'].str.replace(r'\\d+','')\n"
     ]
    }
   ],
   "source": [
    "# Load dataset\n",
    "# data=pd.read_csv(\"train.csv\")\n",
    "data = pd.read_csv(\"train.csv\",encoding=\"utf-8\")\n",
    "data[\"text\"]=data['text'].str.lower()\n",
    "# remove numbers\n",
    "data['text'] = data['text'].str.replace(r'\\d+','')"
   ]
  },
  {
   "cell_type": "code",
   "execution_count": 9,
   "id": "3be19893-9ab6-46e2-a76c-69053b5f6634",
   "metadata": {},
   "outputs": [
    {
     "data": {
      "text/html": [
       "<div>\n",
       "<style scoped>\n",
       "    .dataframe tbody tr th:only-of-type {\n",
       "        vertical-align: middle;\n",
       "    }\n",
       "\n",
       "    .dataframe tbody tr th {\n",
       "        vertical-align: top;\n",
       "    }\n",
       "\n",
       "    .dataframe thead th {\n",
       "        text-align: right;\n",
       "    }\n",
       "</style>\n",
       "<table border=\"1\" class=\"dataframe\">\n",
       "  <thead>\n",
       "    <tr style=\"text-align: right;\">\n",
       "      <th></th>\n",
       "      <th>textID</th>\n",
       "      <th>text</th>\n",
       "      <th>selected_text</th>\n",
       "      <th>sentiment</th>\n",
       "    </tr>\n",
       "  </thead>\n",
       "  <tbody>\n",
       "    <tr>\n",
       "      <th>0</th>\n",
       "      <td>cb774db0d1</td>\n",
       "      <td>i`d have responded, if i were going</td>\n",
       "      <td>I`d have responded, if I were going</td>\n",
       "      <td>neutral</td>\n",
       "    </tr>\n",
       "    <tr>\n",
       "      <th>1</th>\n",
       "      <td>549e992a42</td>\n",
       "      <td>sooo sad i will miss you here in san diego!!!</td>\n",
       "      <td>Sooo SAD</td>\n",
       "      <td>negative</td>\n",
       "    </tr>\n",
       "    <tr>\n",
       "      <th>2</th>\n",
       "      <td>088c60f138</td>\n",
       "      <td>my boss is bullying me...</td>\n",
       "      <td>bullying me</td>\n",
       "      <td>negative</td>\n",
       "    </tr>\n",
       "    <tr>\n",
       "      <th>3</th>\n",
       "      <td>9642c003ef</td>\n",
       "      <td>what interview! leave me alone</td>\n",
       "      <td>leave me alone</td>\n",
       "      <td>negative</td>\n",
       "    </tr>\n",
       "    <tr>\n",
       "      <th>4</th>\n",
       "      <td>358bd9e861</td>\n",
       "      <td>sons of ****, why couldn`t they put them on t...</td>\n",
       "      <td>Sons of ****,</td>\n",
       "      <td>negative</td>\n",
       "    </tr>\n",
       "  </tbody>\n",
       "</table>\n",
       "</div>"
      ],
      "text/plain": [
       "       textID                                               text  \\\n",
       "0  cb774db0d1                i`d have responded, if i were going   \n",
       "1  549e992a42      sooo sad i will miss you here in san diego!!!   \n",
       "2  088c60f138                          my boss is bullying me...   \n",
       "3  9642c003ef                     what interview! leave me alone   \n",
       "4  358bd9e861   sons of ****, why couldn`t they put them on t...   \n",
       "\n",
       "                         selected_text sentiment  \n",
       "0  I`d have responded, if I were going   neutral  \n",
       "1                             Sooo SAD  negative  \n",
       "2                          bullying me  negative  \n",
       "3                       leave me alone  negative  \n",
       "4                        Sons of ****,  negative  "
      ]
     },
     "execution_count": 9,
     "metadata": {},
     "output_type": "execute_result"
    }
   ],
   "source": [
    "data.head()"
   ]
  },
  {
   "cell_type": "code",
   "execution_count": 10,
   "id": "305664d4-75ea-47ba-a16c-9ca0f1658907",
   "metadata": {},
   "outputs": [
    {
     "data": {
      "text/plain": [
       "textID           0\n",
       "text             0\n",
       "selected_text    0\n",
       "sentiment        0\n",
       "dtype: int64"
      ]
     },
     "execution_count": 10,
     "metadata": {},
     "output_type": "execute_result"
    }
   ],
   "source": [
    "# Check null values\n",
    "data.isnull().sum()\n",
    "#Drop nall\n",
    "data=data.dropna()\n",
    "# Check after dropping null\n",
    "data.isnull().sum()"
   ]
  },
  {
   "cell_type": "code",
   "execution_count": 11,
   "id": "de84cd53-9b61-45a7-9b49-5fb9ccfa5a1c",
   "metadata": {},
   "outputs": [
    {
     "data": {
      "text/plain": [
       "(27480, 4)"
      ]
     },
     "execution_count": 11,
     "metadata": {},
     "output_type": "execute_result"
    }
   ],
   "source": [
    "data.shape"
   ]
  },
  {
   "cell_type": "code",
   "execution_count": 12,
   "id": "61542272-e3d4-40cb-a4a8-d9cbf77c0201",
   "metadata": {},
   "outputs": [],
   "source": [
    "data.dropna(axis=0,how=\"any\",inplace=True)\n",
    "# Remove wors less than 2\n",
    "data[\"word_count\"]=data[\"text\"].apply(lambda x:len(str(x)))\n",
    "mask=data[\"word_count\"]>2"
   ]
  },
  {
   "cell_type": "code",
   "execution_count": 13,
   "id": "edbf3938-14a3-4cce-a9eb-60d49081bb4d",
   "metadata": {},
   "outputs": [],
   "source": [
    "data=data[mask]\n",
    "data[\"text\"]=(data[\"text\"].\n",
    "      apply(rem_url).\n",
    "      apply(give_emoji_free_text).\n",
    "      apply(rem_punct)\n",
    "     )"
   ]
  },
  {
   "cell_type": "code",
   "execution_count": 14,
   "id": "062125c0-6b7c-4210-8b4b-70af21f94323",
   "metadata": {},
   "outputs": [
    {
     "data": {
      "text/plain": [
       "sentiment\n",
       "neutral      11117\n",
       "positive      8582\n",
       "negative      7781\n",
       "dtype: int64"
      ]
     },
     "execution_count": 14,
     "metadata": {},
     "output_type": "execute_result"
    }
   ],
   "source": [
    "data[[\"sentiment\"]].value_counts()"
   ]
  },
  {
   "cell_type": "code",
   "execution_count": 15,
   "id": "34ccb2e4-3750-4d97-abef-42a1675d32e4",
   "metadata": {},
   "outputs": [
    {
     "data": {
      "text/plain": [
       "(27480, 5)"
      ]
     },
     "execution_count": 15,
     "metadata": {},
     "output_type": "execute_result"
    }
   ],
   "source": [
    "data.shape"
   ]
  },
  {
   "cell_type": "code",
   "execution_count": 16,
   "id": "3e719274-f745-405e-8451-4acc76b6b7ed",
   "metadata": {},
   "outputs": [
    {
     "data": {
      "text/plain": [
       "139"
      ]
     },
     "execution_count": 16,
     "metadata": {},
     "output_type": "execute_result"
    }
   ],
   "source": [
    "longest_sent=data[\"word_count\"].max()\n",
    "longest_sent"
   ]
  },
  {
   "cell_type": "code",
   "execution_count": 17,
   "id": "7a00bf74-4f8d-4705-866a-c7704cf342ea",
   "metadata": {},
   "outputs": [],
   "source": [
    "# Remove emoji\n",
    "def delete_emoji(data):\n",
    "    emoji= re.compile(\"[\"\n",
    "            u\"\\U0001F600-\\U0001F64F\"  # emoticons\n",
    "            u\"\\U0001F300-\\U0001F5FF\"  # symbols & pictographs\n",
    "            u\"\\U0001F680-\\U0001F6FF\"  # transport & map symbols\n",
    "            u\"\\U0001F1E0-\\U0001F1FF\"  # flags (iOS)\n",
    "            u\"\\U0001F1F2-\\U0001F1F4\"  # Macau flag\n",
    "            u\"\\U0001F1E6-\\U0001F1FF\"  # flags\n",
    "            u\"\\U0001F600-\\U0001F64F\"\n",
    "            u\"\\U00002702-\\U000027B0\"\n",
    "            u\"\\U000024C2-\\U0001F251\"\n",
    "            u\"\\U0001f926-\\U0001f937\"\n",
    "            u\"\\U0001F1F2\"\n",
    "            u\"\\U0001F1F4\"\n",
    "            u\"\\U0001F620\"\n",
    "            u\"\\u200d\"\n",
    "            u\"\\u2640-\\u2642\"\n",
    "            \"]+\", flags=re.UNICODE)\n",
    "\n",
    "    return emoji.sub(r'',data)\n"
   ]
  },
  {
   "cell_type": "code",
   "execution_count": 18,
   "id": "4ebfe919-0af0-454b-b26d-972dc17b7397",
   "metadata": {},
   "outputs": [
    {
     "name": "stderr",
     "output_type": "stream",
     "text": [
      "/tmp/ipykernel_47377/2980684568.py:4: FutureWarning: The default value of regex will change from True to False in a future version.\n",
      "  test['text'] = test['text'].str.replace(r'\\d+','')\n"
     ]
    }
   ],
   "source": [
    "test= pd.read_csv(\"test.csv\",encoding=\"utf-8\")\n",
    "test[\"text\"]=test[\"text\"].str.lower()\n",
    "#remove numbers\n",
    "test['text'] = test['text'].str.replace(r'\\d+','')"
   ]
  },
  {
   "cell_type": "code",
   "execution_count": 19,
   "id": "47a7b573-3eb6-4ce7-ac60-65e03a07a7a1",
   "metadata": {},
   "outputs": [
    {
     "data": {
      "text/html": [
       "<div>\n",
       "<style scoped>\n",
       "    .dataframe tbody tr th:only-of-type {\n",
       "        vertical-align: middle;\n",
       "    }\n",
       "\n",
       "    .dataframe tbody tr th {\n",
       "        vertical-align: top;\n",
       "    }\n",
       "\n",
       "    .dataframe thead th {\n",
       "        text-align: right;\n",
       "    }\n",
       "</style>\n",
       "<table border=\"1\" class=\"dataframe\">\n",
       "  <thead>\n",
       "    <tr style=\"text-align: right;\">\n",
       "      <th></th>\n",
       "      <th>textID</th>\n",
       "      <th>text</th>\n",
       "      <th>sentiment</th>\n",
       "    </tr>\n",
       "  </thead>\n",
       "  <tbody>\n",
       "    <tr>\n",
       "      <th>0</th>\n",
       "      <td>f87dea47db</td>\n",
       "      <td>last session of the day  http://twitpic.com/ezh</td>\n",
       "      <td>neutral</td>\n",
       "    </tr>\n",
       "    <tr>\n",
       "      <th>1</th>\n",
       "      <td>96d74cb729</td>\n",
       "      <td>shanghai is also really exciting (precisely -...</td>\n",
       "      <td>positive</td>\n",
       "    </tr>\n",
       "    <tr>\n",
       "      <th>2</th>\n",
       "      <td>eee518ae67</td>\n",
       "      <td>recession hit veronique branquinho, she has to...</td>\n",
       "      <td>negative</td>\n",
       "    </tr>\n",
       "    <tr>\n",
       "      <th>3</th>\n",
       "      <td>01082688c6</td>\n",
       "      <td>happy bday!</td>\n",
       "      <td>positive</td>\n",
       "    </tr>\n",
       "    <tr>\n",
       "      <th>4</th>\n",
       "      <td>33987a8ee5</td>\n",
       "      <td>http://twitpic.com/wp - i like it!!</td>\n",
       "      <td>positive</td>\n",
       "    </tr>\n",
       "  </tbody>\n",
       "</table>\n",
       "</div>"
      ],
      "text/plain": [
       "       textID                                               text sentiment\n",
       "0  f87dea47db    last session of the day  http://twitpic.com/ezh   neutral\n",
       "1  96d74cb729   shanghai is also really exciting (precisely -...  positive\n",
       "2  eee518ae67  recession hit veronique branquinho, she has to...  negative\n",
       "3  01082688c6                                        happy bday!  positive\n",
       "4  33987a8ee5                http://twitpic.com/wp - i like it!!  positive"
      ]
     },
     "execution_count": 19,
     "metadata": {},
     "output_type": "execute_result"
    }
   ],
   "source": [
    "test.head()"
   ]
  },
  {
   "cell_type": "code",
   "execution_count": 20,
   "id": "79b90ada-1e0d-42af-ae1a-1fdd75283c65",
   "metadata": {},
   "outputs": [],
   "source": [
    "#Preprocessing test data\n",
    "# Check null values\n",
    "test.isnull().sum()\n",
    "#Drop nall\n",
    "test=test.dropna()\n",
    "# Check after dropping null\n",
    "test.isnull().sum()\n",
    "test.dropna(axis=0,how=\"any\",inplace=True)\n",
    "# Remove wors less than 2\n",
    "test[\"word_count\"]=test[\"text\"].apply(lambda x:len(str(x)))\n",
    "mask=test[\"word_count\"]>2\n",
    "\n",
    "\n",
    "test=test[mask]\n",
    "test[\"text\"]=(test[\"text\"].\n",
    "      apply(rem_url).\n",
    "      apply(rem_punct).\n",
    "      apply(give_emoji_free_text)\n",
    "     )\n",
    "# example to not remove numbers\n"
   ]
  },
  {
   "cell_type": "code",
   "execution_count": null,
   "id": "1f281fd9-b993-48e2-8262-163d65f3331f",
   "metadata": {},
   "outputs": [],
   "source": []
  },
  {
   "cell_type": "code",
   "execution_count": 21,
   "id": "18f5e4e6-7702-4b00-9226-6797c7b7e41a",
   "metadata": {},
   "outputs": [
    {
     "data": {
      "text/plain": [
       "neutral     1430\n",
       "positive    1103\n",
       "negative    1001\n",
       "Name: sentiment, dtype: int64"
      ]
     },
     "execution_count": 21,
     "metadata": {},
     "output_type": "execute_result"
    }
   ],
   "source": [
    "test[\"sentiment\"].value_counts()"
   ]
  },
  {
   "cell_type": "code",
   "execution_count": 22,
   "id": "2e9ba832-0ff7-4bd7-b089-e62c429b006e",
   "metadata": {},
   "outputs": [
    {
     "data": {
      "text/plain": [
       "138"
      ]
     },
     "execution_count": 22,
     "metadata": {},
     "output_type": "execute_result"
    }
   ],
   "source": [
    "longest_sent_test=test[\"word_count\"].max()\n",
    "longest_sent_test"
   ]
  },
  {
   "cell_type": "code",
   "execution_count": 23,
   "id": "3b7f6cdd-c41e-4134-8b30-684902f3d2f9",
   "metadata": {},
   "outputs": [],
   "source": [
    "\n",
    "#Tokenizing.\n",
    "# Splitting sentense in words \n",
    "words=3000\n",
    "token=Tokenizer(num_words=words,lower=True,oov_token=\"unk\")\n",
    "token.fit_on_texts(data[\"text\"].tolist())\n"
   ]
  },
  {
   "cell_type": "code",
   "execution_count": 24,
   "id": "cbb619f4-72c8-450a-b3ba-ae465bfbca23",
   "metadata": {},
   "outputs": [
    {
     "name": "stdout",
     "output_type": "stream",
     "text": [
      "[[2, 376, 17, 1, 69, 2, 119, 46]]\n"
     ]
    }
   ],
   "source": [
    "print(token.texts_to_sequences([\"I`d have responded, if I were going\"]))"
   ]
  },
  {
   "cell_type": "code",
   "execution_count": null,
   "id": "fed86446-315f-427b-8edf-456521d4b05d",
   "metadata": {},
   "outputs": [],
   "source": []
  },
  {
   "cell_type": "code",
   "execution_count": 25,
   "id": "4444fcc7-b5a0-4364-89d8-58288962af86",
   "metadata": {},
   "outputs": [],
   "source": [
    "X=data[\"text\"].tolist()\n",
    "y=data[\"sentiment\"].tolist()"
   ]
  },
  {
   "cell_type": "code",
   "execution_count": 26,
   "id": "7019aa83-0c33-495e-84da-f925b21716ea",
   "metadata": {},
   "outputs": [
    {
     "name": "stdout",
     "output_type": "stream",
     "text": [
      "[1 0 0 0 0]\n"
     ]
    }
   ],
   "source": [
    "# Label encoding\n",
    "le=LabelEncoder()\n",
    "y_label=le.fit_transform(y)\n",
    "print(y_label[0:5])\n",
    "y_label=np.array(tf.keras.utils.to_categorical(y_label))\n",
    "y_label[0:5]\n",
    "\n",
    "y_test=test[\"sentiment\"].tolist()\n",
    "y_test=le.fit_transform(y_test)\n",
    "y_test=np.array(tf.keras.utils.to_categorical(y_test))\n"
   ]
  },
  {
   "cell_type": "code",
   "execution_count": null,
   "id": "79ff9a47-92f6-496f-9694-9a8cfa9d5ace",
   "metadata": {},
   "outputs": [],
   "source": []
  },
  {
   "cell_type": "code",
   "execution_count": 27,
   "id": "ac548614-4eb3-4528-861a-6eb79d450be0",
   "metadata": {},
   "outputs": [],
   "source": [
    "# Output is the seuence of indexes"
   ]
  },
  {
   "cell_type": "code",
   "execution_count": 28,
   "id": "3cbb4728-ce00-4bb9-95a5-3f914f0e5a8b",
   "metadata": {},
   "outputs": [],
   "source": [
    "# Spliting\n",
    "X_train, X_valid, y_train, y_valid = train_test_split(X, y_label, test_size=0.2, random_state=42,stratify=y)\n"
   ]
  },
  {
   "cell_type": "code",
   "execution_count": 29,
   "id": "e7bf7d9c-9b3d-4a15-aa60-932c22b3fcc6",
   "metadata": {},
   "outputs": [],
   "source": [
    "# Spliting\n",
    "#X_train, X_valid, y_train, y_valid = train_test_split(X_train, y_valid, test_size=0.1, random_state=42,stratify=y)\n"
   ]
  },
  {
   "cell_type": "code",
   "execution_count": 30,
   "id": "0e53421c-d494-4009-a769-162fa1f98547",
   "metadata": {},
   "outputs": [],
   "source": [
    "#Padding add 0 to sebtenses with less words in the set\n",
    "X_train=np.array(token.texts_to_sequences(X_train),dtype=\"object\")\n",
    "X_valid=np.array(token.texts_to_sequences(X_valid),dtype=\"object\")\n",
    "X_test=np.array(token.texts_to_sequences(test[\"text\"].tolist()),dtype=\"object\")\n",
    "                 "
   ]
  },
  {
   "cell_type": "code",
   "execution_count": 31,
   "id": "9bbb13f6-b1fb-4ede-b632-9c0038dfcbd0",
   "metadata": {},
   "outputs": [
    {
     "data": {
      "text/plain": [
       "array([list([93, 1157, 13, 4, 23, 1]),\n",
       "       list([1, 10, 238, 59, 902, 1, 1, 1, 31, 1717, 11, 2141, 1, 1]),\n",
       "       list([1, 436, 1, 1, 131, 91, 3, 1506, 98, 849, 269, 5, 782]), ...,\n",
       "       list([2, 57, 58, 8, 334, 6, 160, 485, 10, 1, 224, 1, 111, 387, 3, 544, 1, 1]),\n",
       "       list([1, 58, 10, 41, 142, 566, 446, 123, 24, 62, 2, 43, 41, 1004]),\n",
       "       list([1, 1, 2253, 371, 2790, 1])], dtype=object)"
      ]
     },
     "execution_count": 31,
     "metadata": {},
     "output_type": "execute_result"
    }
   ],
   "source": [
    "X_test"
   ]
  },
  {
   "cell_type": "code",
   "execution_count": null,
   "id": "03b7f3ed-4fff-490d-b820-88b4c67fe68f",
   "metadata": {},
   "outputs": [],
   "source": []
  },
  {
   "cell_type": "code",
   "execution_count": 32,
   "id": "4e9690f9-9c91-4954-8509-369594f7610f",
   "metadata": {},
   "outputs": [
    {
     "data": {
      "text/plain": [
       "[2082, 1, 15, 1790, 118, 25, 65, 1]"
      ]
     },
     "execution_count": 32,
     "metadata": {},
     "output_type": "execute_result"
    }
   ],
   "source": [
    "X_train[0]"
   ]
  },
  {
   "cell_type": "code",
   "execution_count": 33,
   "id": "e3cbcd5b-2370-4435-96c0-1069847a278a",
   "metadata": {},
   "outputs": [],
   "source": [
    "#Padding\n",
    "X_train=pad_sequences(X_train,padding=\"post\",maxlen=145)\n",
    "X_valid=pad_sequences(X_valid,padding=\"post\",maxlen=145)\n",
    "X_test=pad_sequences(X_test,padding=\"post\",maxlen=145)"
   ]
  },
  {
   "cell_type": "code",
   "execution_count": 34,
   "id": "ee18023f-34a4-4379-a0a6-aba5b67b2ae5",
   "metadata": {},
   "outputs": [
    {
     "data": {
      "text/plain": [
       "array([ 606,    7,  432, 1840,   20], dtype=int32)"
      ]
     },
     "execution_count": 34,
     "metadata": {},
     "output_type": "execute_result"
    }
   ],
   "source": [
    "X_valid[0][0:5]"
   ]
  },
  {
   "cell_type": "code",
   "execution_count": 35,
   "id": "4c7f72fb-bd98-40f5-afeb-050c99b6bb0f",
   "metadata": {},
   "outputs": [
    {
     "data": {
      "text/plain": [
       "['negative', 'neutral', 'positive']"
      ]
     },
     "execution_count": 35,
     "metadata": {},
     "output_type": "execute_result"
    }
   ],
   "source": [
    "test_labels=le.transform(test[\"sentiment\"].tolist())\n",
    "y_test=np.array(tf.keras.utils.to_categorical(test_labels))\n",
    "list(le.classes_)"
   ]
  },
  {
   "cell_type": "code",
   "execution_count": 36,
   "id": "db77683f-59b2-41c9-9200-81f823215ef6",
   "metadata": {},
   "outputs": [
    {
     "data": {
      "text/plain": [
       "array([[2082,    1,   15, ...,    0,    0,    0],\n",
       "       [ 510,  491,    4, ...,    0,    0,    0],\n",
       "       [   6, 1472,   10, ...,    0,    0,    0],\n",
       "       ...,\n",
       "       [  35,   34,    8, ...,    0,    0,    0],\n",
       "       [ 411,  411,   84, ...,    0,    0,    0],\n",
       "       [  85,   49,   24, ...,    0,    0,    0]], dtype=int32)"
      ]
     },
     "execution_count": 36,
     "metadata": {},
     "output_type": "execute_result"
    }
   ],
   "source": [
    "X_train"
   ]
  },
  {
   "cell_type": "code",
   "execution_count": 37,
   "id": "2d077713-a408-445d-8ee1-09ecb72bff29",
   "metadata": {},
   "outputs": [],
   "source": [
    "train_ds=tf.data.Dataset.from_tensor_slices((X_train,y_train))\n",
    "valid_ds=tf.data.Dataset.from_tensor_slices((X_valid,y_valid))\n",
    "test_ds=tf.data.Dataset.from_tensor_slices((X_test,y_test))"
   ]
  },
  {
   "cell_type": "code",
   "execution_count": 38,
   "id": "313a9165-957c-4d35-8c19-c694ecf0b668",
   "metadata": {},
   "outputs": [
    {
     "name": "stdout",
     "output_type": "stream",
     "text": [
      "tf.Tensor(\n",
      "[2082    1   15 1790  118   25   65    1    0    0    0    0    0    0\n",
      "    0    0    0    0    0    0    0    0    0    0    0    0    0    0\n",
      "    0    0    0    0    0    0    0    0    0    0    0    0    0    0\n",
      "    0    0    0    0    0    0    0    0    0    0    0    0    0    0\n",
      "    0    0    0    0    0    0    0    0    0    0    0    0    0    0\n",
      "    0    0    0    0    0    0    0    0    0    0    0    0    0    0\n",
      "    0    0    0    0    0    0    0    0    0    0    0    0    0    0\n",
      "    0    0    0    0    0    0    0    0    0    0    0    0    0    0\n",
      "    0    0    0    0    0    0    0    0    0    0    0    0    0    0\n",
      "    0    0    0    0    0    0    0    0    0    0    0    0    0    0\n",
      "    0    0    0    0    0], shape=(145,), dtype=int32) tf.Tensor([0. 1. 0.], shape=(3,), dtype=float32)\n"
     ]
    }
   ],
   "source": [
    "for x,y in train_ds:\n",
    "    print(x,y)\n",
    "    break"
   ]
  },
  {
   "cell_type": "code",
   "execution_count": 39,
   "id": "d4659113-8e2f-4768-9cb3-a0e6e43c97af",
   "metadata": {},
   "outputs": [
    {
     "name": "stdout",
     "output_type": "stream",
     "text": [
      "Model: \"sequential\"\n",
      "_________________________________________________________________\n",
      " Layer (type)                Output Shape              Param #   \n",
      "=================================================================\n",
      " embedding (Embedding)       (None, 145, 64)           960064    \n",
      "                                                                 \n",
      " conv1d (Conv1D)             (None, 143, 128)          24704     \n",
      "                                                                 \n",
      " global_max_pooling1d (Globa  (None, 128)              0         \n",
      " lMaxPooling1D)                                                  \n",
      "                                                                 \n",
      " dropout (Dropout)           (None, 128)               0         \n",
      "                                                                 \n",
      " dense (Dense)               (None, 3)                 387       \n",
      "                                                                 \n",
      "=================================================================\n",
      "Total params: 985,155\n",
      "Trainable params: 985,155\n",
      "Non-trainable params: 0\n",
      "_________________________________________________________________\n"
     ]
    }
   ],
   "source": [
    "max_features=15000\n",
    "embedding_die=64\n",
    "sequence_length=145\n",
    "model=Sequential()\n",
    "model.add(Embedding(max_features+1,embedding_die,input_length=sequence_length,\\\n",
    "                   embeddings_regularizer=regularizers.l2(0.0005)))\n",
    "model.add(Conv1D(filters=128,kernel_size=3,activation=\"relu\",\\\n",
    "                 kernel_regularizer=regularizers.l2(0.0005),\\\n",
    "                 bias_regularizer=regularizers.l2(0.0005)))\n",
    "model.add(GlobalMaxPool1D())\n",
    "model.add(Dropout(0.5))\n",
    "model.add(Dense(3,activation=\"sigmoid\",\\\n",
    "                 kernel_regularizer=regularizers.l2(0.0005),\\\n",
    "                 bias_regularizer=regularizers.l2(0.0005)))\n",
    "model.summary()\n",
    "model.compile(loss=losses.CategoricalCrossentropy(from_logits=True),optimizer=\"Nadam\",metrics=[\"categorical_accuracy\"])"
   ]
  },
  {
   "cell_type": "code",
   "execution_count": 40,
   "id": "50d08da9-4303-494e-b937-ff5dcd8eeb32",
   "metadata": {},
   "outputs": [
    {
     "data": {
      "image/png": "[encoded data removed]",
      "text/plain": [
       "<IPython.core.display.Image object>"
      ]
     },
     "execution_count": 40,
     "metadata": {},
     "output_type": "execute_result"
    }
   ],
   "source": [
    "#Plot CNN layers\n",
    "#! pip install pydot\n",
    "#! sudo apt install graphviz\n",
    "tf.keras.utils.plot_model(model,\"multi_input_output.png\",show_shapes=True)"
   ]
  },
  {
   "cell_type": "code",
   "execution_count": 41,
   "id": "174b417e-3869-4ad7-a7cc-af06939b3429",
   "metadata": {},
   "outputs": [],
   "source": [
    "#! pip install pydot\n",
    "#! sudo apt install graphviz"
   ]
  },
  {
   "cell_type": "code",
   "execution_count": 42,
   "id": "19c91aa4-2001-4d6e-86bf-f586353180fb",
   "metadata": {},
   "outputs": [
    {
     "name": "stdout",
     "output_type": "stream",
     "text": [
      "Epoch 1/10\n"
     ]
    },
    {
     "name": "stderr",
     "output_type": "stream",
     "text": [
      "/home/bonface/miniconda3/envs/tensorflow/lib/python3.10/site-packages/tensorflow/python/util/dispatch.py:1082: UserWarning: \"`categorical_crossentropy` received `from_logits=True`, but the `output` argument was produced by a sigmoid or softmax activation and thus does not represent logits. Was this intended?\"\n",
      "  return dispatch_target(*args, **kwargs)\n"
     ]
    },
    {
     "name": "stdout",
     "output_type": "stream",
     "text": [
      "172/172 [==============================] - ETA: 0s - loss: 1.0411 - categorical_accuracy: 0.5420"
     ]
    },
    {
     "name": "stderr",
     "output_type": "stream",
     "text": [
      "2022-07-16 10:46:14.292779: W tensorflow/core/framework/cpu_allocator_impl.cc:82] Allocation of 82587648 exceeds 10% of free system memory.\n",
      "2022-07-16 10:46:14.479518: W tensorflow/core/framework/cpu_allocator_impl.cc:82] Allocation of 82587648 exceeds 10% of free system memory.\n",
      "2022-07-16 10:46:14.682244: W tensorflow/core/framework/cpu_allocator_impl.cc:82] Allocation of 82587648 exceeds 10% of free system memory.\n",
      "2022-07-16 10:46:14.869243: W tensorflow/core/framework/cpu_allocator_impl.cc:82] Allocation of 82587648 exceeds 10% of free system memory.\n"
     ]
    },
    {
     "name": "stdout",
     "output_type": "stream",
     "text": [
      "172/172 [==============================] - 20s 109ms/step - loss: 1.0411 - categorical_accuracy: 0.5420 - val_loss: 0.8141 - val_categorical_accuracy: 0.6812\n",
      "Epoch 2/10\n"
     ]
    },
    {
     "name": "stderr",
     "output_type": "stream",
     "text": [
      "2022-07-16 10:46:15.070553: W tensorflow/core/framework/cpu_allocator_impl.cc:82] Allocation of 72044544 exceeds 10% of free system memory.\n"
     ]
    },
    {
     "name": "stdout",
     "output_type": "stream",
     "text": [
      "172/172 [==============================] - 18s 102ms/step - loss: 0.7882 - categorical_accuracy: 0.7012 - val_loss: 0.7658 - val_categorical_accuracy: 0.7078\n",
      "Epoch 3/10\n",
      "172/172 [==============================] - 18s 104ms/step - loss: 0.7483 - categorical_accuracy: 0.7243 - val_loss: 0.7629 - val_categorical_accuracy: 0.7158\n",
      "Epoch 4/10\n",
      "172/172 [==============================] - 17s 101ms/step - loss: 0.7311 - categorical_accuracy: 0.7354 - val_loss: 0.7611 - val_categorical_accuracy: 0.7193\n",
      "Epoch 5/10\n",
      "172/172 [==============================] - 18s 102ms/step - loss: 0.7183 - categorical_accuracy: 0.7405 - val_loss: 0.7688 - val_categorical_accuracy: 0.7163\n",
      "Epoch 6/10\n",
      "172/172 [==============================] - 18s 102ms/step - loss: 0.7076 - categorical_accuracy: 0.7494 - val_loss: 0.7703 - val_categorical_accuracy: 0.7171\n",
      "Epoch 7/10\n",
      "172/172 [==============================] - 18s 103ms/step - loss: 0.7005 - categorical_accuracy: 0.7586 - val_loss: 0.7808 - val_categorical_accuracy: 0.7156\n",
      "Epoch 8/10\n",
      "172/172 [==============================] - 17s 101ms/step - loss: 0.6914 - categorical_accuracy: 0.7625 - val_loss: 0.7831 - val_categorical_accuracy: 0.7120\n",
      "Epoch 9/10\n",
      "172/172 [==============================] - 18s 102ms/step - loss: 0.6863 - categorical_accuracy: 0.7688 - val_loss: 0.7918 - val_categorical_accuracy: 0.7091\n",
      "Epoch 10/10\n",
      "172/172 [==============================] - 18s 103ms/step - loss: 0.6779 - categorical_accuracy: 0.7747 - val_loss: 0.7979 - val_categorical_accuracy: 0.7114\n"
     ]
    }
   ],
   "source": [
    "epochs=10\n",
    "history=model.fit(train_ds.shuffle(max_features).batch(128),\\\n",
    "                  epochs=epochs,\\\n",
    "                  validation_data=valid_ds.batch(1128),\\\n",
    "                  verbose=1)"
   ]
  },
  {
   "cell_type": "markdown",
   "id": "598f127f-2cc9-4e1c-a3c0-ae1b3a172309",
   "metadata": {},
   "source": [
    "# Plot training and validation accuracy"
   ]
  },
  {
   "cell_type": "code",
   "execution_count": 51,
   "id": "6a321bff-f928-45db-9115-f675b1314a14",
   "metadata": {},
   "outputs": [
    {
     "data": {
      "image/png": "[encoded data removed]",
      "text/plain": [
       "<Figure size 432x288 with 1 Axes>"
      ]
     },
     "metadata": {
      "needs_background": "light"
     },
     "output_type": "display_data"
    }
   ],
   "source": [
    "plt.plot(history.history[\"loss\"],label=\"train loss\")\n",
    "plt.plot(history.history[\"val_loss\"],label=\"validation loss\")\n",
    "plt.title(\"Training and validation loss fro classification\")\n",
    "plt.ylabel(\"Loss value\")\n",
    "plt.xlabel(\"No of epochs\")\n",
    "plt.legend(loc=\"upper left\")\n",
    "plt.show()\n",
    "\n"
   ]
  },
  {
   "cell_type": "markdown",
   "id": "b162ca8a-1f9b-40be-aaf0-171869596c03",
   "metadata": {},
   "source": [
    "\n",
    "# Plot Categorical Accuracy\n"
   ]
  },
  {
   "cell_type": "code",
   "execution_count": 52,
   "id": "1e805978-680b-4a28-9dfe-b43e1edd7fdf",
   "metadata": {},
   "outputs": [
    {
     "data": {
      "image/png": "[encoded data removed]",
      "text/plain": [
       "<Figure size 432x288 with 1 Axes>"
      ]
     },
     "metadata": {
      "needs_background": "light"
     },
     "output_type": "display_data"
    }
   ],
   "source": [
    "plt.plot(history.history[\"categorical_accuracy\"],label=\"train\")\n",
    "plt.plot(history.history[\"val_categorical_accuracy\"],label=\"validation data\")\n",
    "plt.title(\"Categorical accuracy for  classification\")\n",
    "plt.ylabel(\"Categorical_accuracy value\")\n",
    "plt.xlabel(\"No of epochs\")\n",
    "plt.legend(loc=\"upper left\")\n",
    "plt.show()\n",
    "\n",
    "\n"
   ]
  },
  {
   "cell_type": "code",
   "execution_count": 56,
   "id": "5b44f260-8721-45dc-a92a-c77d3f3eae1e",
   "metadata": {},
   "outputs": [
    {
     "name": "stderr",
     "output_type": "stream",
     "text": [
      "WARNING:absl:Found untraced functions such as _jit_compiled_convolution_op while saving (showing 1 of 1). These functions will not be directly callable after loading.\n"
     ]
    },
    {
     "name": "stdout",
     "output_type": "stream",
     "text": [
      "INFO:tensorflow:Assets written to: twitter_analysis_model1/assets\n"
     ]
    },
    {
     "name": "stderr",
     "output_type": "stream",
     "text": [
      "INFO:tensorflow:Assets written to: twitter_analysis_model1/assets\n"
     ]
    }
   ],
   "source": [
    "# Save the mode\n",
    "model.save(\"twitter_analysis_model1\") # saving the model\n"
   ]
  },
  {
   "cell_type": "code",
   "execution_count": null,
   "id": "3d05b668-52c4-4337-8488-a582d9da3ba0",
   "metadata": {},
   "outputs": [],
   "source": []
  },
  {
   "cell_type": "code",
   "execution_count": null,
   "id": "b1fd814c-03ce-4427-8458-503f64d74e50",
   "metadata": {},
   "outputs": [],
   "source": [
    "\n"
   ]
  },
  {
   "cell_type": "code",
   "execution_count": null,
   "id": "6d9c5f1e-0f9b-4440-8473-4e6137a667de",
   "metadata": {},
   "outputs": [],
   "source": [
    "\n"
   ]
  }
 ],
 "metadata": {
  "kernelspec": {
   "display_name": "Python 3 (ipykernel)",
   "language": "python",
   "name": "python3"
  },
  "language_info": {
   "codemirror_mode": {
    "name": "ipython",
    "version": 3
   },
   "file_extension": ".py",
   "mimetype": "text/x-python",
   "name": "python",
   "nbconvert_exporter": "python",
   "pygments_lexer": "ipython3",
   "version": "3.10.2"
  }
 },
 "nbformat": 4,
 "nbformat_minor": 5
}
